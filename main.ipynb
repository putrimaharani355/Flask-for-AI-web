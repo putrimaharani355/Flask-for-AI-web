{
 "cells": [
  {
   "cell_type": "code",
   "execution_count": 2,
   "id": "96f49f4c",
   "metadata": {},
   "outputs": [],
   "source": [
    "import time\n",
    "import os\n",
    "import cv2\n",
    "import numpy as np\n",
    "from PIL import Image\n",
    "from flask import Flask, request, redirect, render_template\n",
    "from tensorflow.keras.models import load_model\n",
    "from tensorflow.keras.models import model_from_json"
   ]
  },
  {
   "cell_type": "code",
   "execution_count": 3,
   "id": "ccdb2163",
   "metadata": {},
   "outputs": [],
   "source": [
    "ALLOWED_EXTENSIONS = {'png', 'jpg', 'jpeg'}\n",
    "app = Flask(__name__)\n",
    "UPLOAD_FOLDER = 'static/uploads/'\n",
    "app.config['MAX_CONTENT_LENGTH'] = 10 * 1024 * 1024\n",
    "\n",
    "@app.after_request\n",
    "def add_header(r):\n",
    "    r.headers[\"Cache-Control\"] = \"no-cache, no-store, must-revalidate\"\n",
    "    r.headers[\"Pragma\"] = \"no-cache\"\n",
    "    r.headers[\"Expires\"] = \"0\"\n",
    "    r.headers['Cache-Control'] = 'public, max-age=0'\n",
    "    return r"
   ]
  },
  {
   "cell_type": "code",
   "execution_count": 4,
   "id": "d3667fd9",
   "metadata": {},
   "outputs": [],
   "source": [
    "@app.route(\"/\")\n",
    "def index():\n",
    "    return render_template('/select.html', )"
   ]
  },
  {
   "cell_type": "code",
   "execution_count": 5,
   "id": "57ef2d88",
   "metadata": {},
   "outputs": [],
   "source": [
    "@app.route('/predict', methods=['POST'])\n",
    "def predict():\n",
    "    chosen_model = request.form['select_model']\n",
    "    model_dict = {'hyperModel'   :   'static/MLModule/hyperModel.h5',\n",
    "                  'LRSModel'     :   'static/MLModule/LRSModel.h5',}\n",
    "    if chosen_model in model_dict:\n",
    "        model = load_model(model_dict[chosen_model])\n",
    "    else:\n",
    "        model = load_model(model_dict[0])\n",
    "    file = request.files[\"file\"]\n",
    "    file.save(os.path.join('static', 'temp.jpg'))\n",
    "    img = cv2.cvtColor(np.array(Image.open(file)), cv2.COLOR_BGR2RGB)\n",
    "    img = np.expand_dims(cv2.resize(img, model.layers[0].input_shape[0][1:3] \\\n",
    "    if not model.layers[0].input_shape[1:3] else model.layers[0].input_shape \\\n",
    "    [1:3]).astype('float32') / 255, axis=0)\n",
    "    start = time.time()\n",
    "    pred = model.predict(img)[0]\n",
    "    labels = (pred > 0.5).astype(np.int)\n",
    "    print(labels)\n",
    "    runtimes = round(time.time()-start,4)\n",
    "    respon_model = [round(elem * 100, 2) for elem in pred]\n",
    "    return predict_result(chosen_model, runtimes, respon_model, 'temp.jpg')"
   ]
  },
  {
   "cell_type": "code",
   "execution_count": 6,
   "id": "84eea571",
   "metadata": {},
   "outputs": [],
   "source": [
    "def predict_result(model, run_time, probs, img):\n",
    "    class_list = {'Cat': 0, 'Dog': 1}\n",
    "    idx_pred = probs.index(max(probs))\n",
    "    labels = list(class_list.keys())\n",
    "    return render_template('/result_select.html', labels=labels,\n",
    "                            probs=probs, model=model, pred=idx_pred,\n",
    "                            run_time=run_time, img=img)"
   ]
  },
  {
   "cell_type": "code",
   "execution_count": 7,
   "id": "a1b3b9f2",
   "metadata": {},
   "outputs": [
    {
     "name": "stdout",
     "output_type": "stream",
     "text": [
      " * Serving Flask app \"__main__\" (lazy loading)\n",
      " * Environment: production\n",
      "\u001b[31m   WARNING: This is a development server. Do not use it in a production deployment.\u001b[0m\n",
      "\u001b[2m   Use a production WSGI server instead.\u001b[0m\n",
      " * Debug mode: on\n"
     ]
    },
    {
     "name": "stderr",
     "output_type": "stream",
     "text": [
      " * Restarting with watchdog (windowsapi)\n"
     ]
    },
    {
     "ename": "SystemExit",
     "evalue": "1",
     "output_type": "error",
     "traceback": [
      "An exception has occurred, use %tb to see the full traceback.\n",
      "\u001b[1;31mSystemExit\u001b[0m\u001b[1;31m:\u001b[0m 1\n"
     ]
    },
    {
     "name": "stderr",
     "output_type": "stream",
     "text": [
      "C:\\Users\\DELL\\anaconda3\\lib\\site-packages\\IPython\\core\\interactiveshell.py:3465: UserWarning: To exit: use 'exit', 'quit', or Ctrl-D.\n",
      "  warn(\"To exit: use 'exit', 'quit', or Ctrl-D.\", stacklevel=1)\n"
     ]
    }
   ],
   "source": [
    "if __name__ == \"__main__\":\n",
    "        app.run(debug=True, host='0.0.0.0', port=2000)"
   ]
  },
  {
   "cell_type": "code",
   "execution_count": null,
   "id": "e7d96824",
   "metadata": {},
   "outputs": [],
   "source": []
  }
 ],
 "metadata": {
  "kernelspec": {
   "display_name": "Python 3 (ipykernel)",
   "language": "python",
   "name": "python3"
  },
  "language_info": {
   "codemirror_mode": {
    "name": "ipython",
    "version": 3
   },
   "file_extension": ".py",
   "mimetype": "text/x-python",
   "name": "python",
   "nbconvert_exporter": "python",
   "pygments_lexer": "ipython3",
   "version": "3.9.13"
  }
 },
 "nbformat": 4,
 "nbformat_minor": 5
}
